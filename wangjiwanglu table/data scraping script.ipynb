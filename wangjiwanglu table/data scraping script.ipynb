{
 "cells": [
  {
   "cell_type": "code",
   "execution_count": 1,
   "id": "3b8d5dda",
   "metadata": {},
   "outputs": [],
   "source": [
    "from bs4 import BeautifulSoup\n",
    "import requests\n",
    "import pandas as pd\n",
    "import numpy as np"
   ]
  },
  {
   "cell_type": "code",
   "execution_count": 2,
   "id": "46fe4d15",
   "metadata": {},
   "outputs": [],
   "source": [
    "url = \"https://companiesmarketcap.com/\"\n",
    "\n",
    "page = requests.get(url)\n",
    "\n",
    "soup = BeautifulSoup(page.text, 'lxml')\n",
    "\n",
    "table = soup.find_all(\"table\", class_=\"default-table table marketcap-table dataTable\")"
   ]
  },
  {
   "cell_type": "code",
   "execution_count": 3,
   "id": "da4f6d8c",
   "metadata": {},
   "outputs": [
    {
     "name": "stdout",
     "output_type": "stream",
     "text": [
      "['$2.954 T', '$2.805 T', '$2.158 T', '$1.719 T', '$1.516 T', '$1.180 T', '$869.20 B', '$789.47 B', '$748.47 B', '$570.62 B', '$522.16 B', '$510.52 B', '$507.38 B', '$506.02 B', '$470.41 B', '$443.88 B', '$420.04 B', '$418.92 B', '$404.69 B', '$386.99 B', '$386.83 B', '$367.11 B', '$364.80 B', '$356.78 B', '$318.45 B', '$312.27 B', '$310.72 B', '$304.22 B', '$282.02 B', '$275.30 B', '$273.53 B', '$261.81 B', '$258.14 B', '$254.25 B', '$253.22 B', '$253.10 B', '$244.82 B', '$238.62 B', '$235.27 B', '$232.86 B', '$225.36 B', '$224.30 B', '$218.99 B', '$217.94 B', '$216.98 B', '$209.89 B', '$209.81 B', '$204.93 B', '$202.67 B', '$200.85 B', '$200.66 B', '$199.93 B', '$197.59 B', '$195.88 B', '$194.39 B', '$189.62 B', '$185.33 B', '$181.43 B', '$178.58 B', '$178.02 B', '$175.14 B', '$174.79 B', '$172.29 B', '$172.21 B', '$171.38 B', '$171.08 B', '$163.81 B', '$163.60 B', '$162.98 B', '$158.08 B', '$157.70 B', '$157.27 B', '$156.91 B', '$155.86 B', '$151.82 B', '$150.51 B', '$149.77 B', '$148.46 B', '$147.96 B', '$146.45 B', '$145.80 B', '$142.18 B', '$142.06 B', '$141.69 B', '$139.49 B', '$138.18 B', '$137.13 B', '$136.72 B', '$135.51 B', '$133.09 B', '$131.50 B', '$130.84 B', '$130.57 B', '$129.51 B', '$129.08 B', '$127.50 B', '$126.89 B', '$125.92 B', '$125.79 B', '$125.76 B']\n",
      "['$189.97', '$377.43', '$8.92', '$138.22', '$146.74', '$477.76', '$338.23', '$362.68', '$235.45', '$601.10', '$254.30', '$978.87', '$97.83', '$547.10', '$105.45', '$153.54', '$156.06', '$104.57', '$41.66', '$774.01', '$412.50', '$152.50', '$55.05', '$151.38', '$116.25', '$248.59', '$310.70', '$114.02', '$619.43', '$691.18', '$144.90', '$591.36', '$101.87', '$188.30', '$58.57', '$472.41', '$138.67', '$108.79', '$29.73', '$169.37', '$2,136', '$0.49', '$224.38', '$270.87', '$65.99', '$479.56', '$334.04', '$282.54', '$98.14', '$414.22', '$78.49', '$64.50', '$122.31', '$48.36', '$28.73', '$490.78', '$43.96', '$154.19', '$102.87', '$8.13', '$1.00', '$0.51', '$148.98', '$30.50', '$42.58', '$96.06', '$107.64', '$221.41', '$68.78', '$564.07', '$118.70', '$37.41', '$62.01', '$42.92', '$41.49', '$59.50', '$38.62', '$0.90', '$0.56', '$94.34', '$33.37', '$127.75', '$265.46', '$155.18', '$153.59', '$673.90', '$115.49', '$224.28', '$751.12', '$220.00', '$415.10', '$165.18', '$119.97', '$152.03', '$78.65', '$193.41', '$20.34', '$247.36', '$63.11', '$150.34']\n"
     ]
    }
   ],
   "source": [
    "raw_prices: list[BeautifulSoup] = table[0].find_all('td', {'class': 'td-right', 'data-sort': any})\n",
    "    \n",
    "price_marketcap = []\n",
    "price_price = []\n",
    "\n",
    "i = 0\n",
    "while i < len(raw_prices):\n",
    "    if i % 3 == 1:\n",
    "        price_marketcap.append(raw_prices[i].text)\n",
    "    if i % 3 == 2:\n",
    "        price_price.append(raw_prices[i].text)\n",
    "    i += 1\n",
    "    \n",
    "print(price_marketcap)\n",
    "print(price_price)"
   ]
  },
  {
   "cell_type": "code",
   "execution_count": 6,
   "id": "eba654d0",
   "metadata": {
    "scrolled": true
   },
   "outputs": [
    {
     "name": "stdout",
     "output_type": "stream",
     "text": [
      "['Apple', 'Microsoft', 'Saudi Aramco', 'Alphabet (Google)', 'Amazon', 'NVIDIA', 'Meta Platforms (Facebook)', 'Berkshire Hathaway ', 'Tesla', 'Eli Lilly', 'Visa', 'TSMC', 'UnitedHealth', 'Novo Nordisk', 'JPMorgan Chase', 'Exxon Mobil', 'Walmart', 'Broadcom', 'Tencent', 'LVMH', 'Mastercard', 'Samsung', 'Johnson & Johnson', 'Procter & Gamble', 'Oracle', 'Kweichow Moutai', 'Home Depot', 'Nestlé', 'Adobe', 'Chevron', 'ASML', 'Costco', 'Merck', 'Coca-Cola', \"L'Oréal\", 'Toyota', 'AbbVie', 'International Holding Company', 'Bank of America ', 'Pepsico', 'ICBC', 'Hermès', 'Salesforce', 'Roche', 'Shell', 'Accenture', 'Netflix', 'McDonald', 'Alibaba', 'Novartis', 'Linde', 'AMD', 'AstraZeneca', 'Cisco', 'Reliance Industries', 'Thermo Fisher Scientific', 'Intel', 'SAP', 'China Mobile', 'Abbott Laboratories', 'PetroChina', 'Agricultural Bank of China', 'T-Mobile US', 'Pfizer', 'Comcast', 'Walt Disney', 'Nike', 'Danaher', 'TotalEnergies', 'Intuit', 'BHP Group', 'Verizon', 'Pinduoduo', 'Wells Fargo', 'Tata Consultancy Services', 'China Construction Bank', 'HSBC', 'HDFC Bank', 'Bank of China', 'Prosus', 'Philip Morris', 'QUALCOMM', 'IBM', 'Amgen', 'Texas Instruments', 'ServiceNow', 'Dior', 'ConocoPhillips', 'Union Pacific Corporation', 'Boeing', 'S&P Global', 'General Electric', 'Siemens', 'Morgan Stanley', 'United Parcel Service', 'Honeywell', 'Inditex', 'Caterpillar', 'Applied Materials', 'Anheuser-Busch Inbev']\n"
     ]
    }
   ],
   "source": [
    "name_data = []\n",
    "\n",
    "company_names: list[BeautifulSoup] = table[0].find_all(\"div\", {\"class\": \"company-name\"})\n",
    "\n",
    "i = 0\n",
    "\n",
    "for company_name in company_names:\n",
    "    name_data.append(company_name.text)\n",
    "    i += 1\n",
    "    \n",
    "print(name_data)"
   ]
  },
  {
   "cell_type": "code",
   "execution_count": 4,
   "id": "83412e90",
   "metadata": {},
   "outputs": [
    {
     "name": "stdout",
     "output_type": "stream",
     "text": [
      "['-0.70%', '-0.11%', '-0.15%', '-1.29%', '+0.02%', '-1.93%', '-0.95%', '+0.24%', '+0.53%', '+1.01%', '+0.23%', '+0.71%', '-0.83%', '+0.61%', '+2.12%', '+0.14%', '+0.90%', '+0.54%', '+0.82%', '-0.66%', '+0.53%', '+1.11%', '-0.97%', '+0.24%', '+0.01%', '-0.50%', '+0.49%', '+0.14%', '-0.05%', '+0.93%', '+0.39%', '+0.39%', '+0.19%', '+2.21%', '+0.26%', '+0.51%', '+0.14%', '-0.03%', '+0.34%', '+0.09%', '-0.44%', '-1.56%', '+0.24%', '+0.15%', '+0.87%', '+0.33%', '+0.27%', '+0.22%', '+1.08%', '+0.63%', '-0.60%', '+1.40%', '-0.16%', '+0.58%', '-0.07%', '+0.67%', '+0.66%', '+0.67%', '+0.17%', '-0.31%', '+0.14%', '+0.00%', '+0.05%', '+0.59%', '+0.24%', '+1.04%', '-0.26%', '+0.05%', '+1.01%', '-0.03%', '+1.07%', '+0.16%', '-0.34%', '+0.33%', '-1.46%', '+1.47%', '+1.52%', '+0.63%', '+0.51%', '+0.55%', '-0.55%', '+0.20%', '+0.33%', '+0.03%', '-0.22%', '+0.63%', '+0.56%', '+0.35%', '-0.72%', '+0.04%', '+0.00%', '+0.82%', '+0.31%', '+0.85%', '+0.20%', '+0.57%', '+1.35%', '+0.55%', '+0.65%', '+0.58%']\n"
     ]
    }
   ],
   "source": [
    "percentages: list[BeautifulSoup] = table[0].find_all('td', {'class': 'rh-sm'})\n",
    "percentage_data = []\n",
    "\n",
    "for percentage in percentages:\n",
    "    percentage_text = percentage.text.strip()\n",
    "    \n",
    "    if percentage.find('span', {'class': 'percentage-green'}):\n",
    "        percentage_data.append(\"+\" + percentage_text)\n",
    "    else :\n",
    "        percentage_data.append(\"-\" + percentage_text)\n",
    "\n",
    "print(percentage_data)"
   ]
  },
  {
   "cell_type": "code",
   "execution_count": 19,
   "id": "fccf22d6",
   "metadata": {},
   "outputs": [],
   "source": [
    "data = {\n",
    "    \"Name\": name_data,\n",
    "    \"Market Cap\": price_marketcap,\n",
    "    \"Price\": price_price,\n",
    "    \"percentages\" : percentage_data\n",
    "}\n",
    "\n",
    "df = pd.DataFrame(data)\n",
    "df.index = np.arange(1, len(df) + 1)"
   ]
  },
  {
   "cell_type": "code",
   "execution_count": 20,
   "id": "c22f9927",
   "metadata": {
    "scrolled": true
   },
   "outputs": [
    {
     "data": {
      "text/html": [
       "<div>\n",
       "<style scoped>\n",
       "    .dataframe tbody tr th:only-of-type {\n",
       "        vertical-align: middle;\n",
       "    }\n",
       "\n",
       "    .dataframe tbody tr th {\n",
       "        vertical-align: top;\n",
       "    }\n",
       "\n",
       "    .dataframe thead th {\n",
       "        text-align: right;\n",
       "    }\n",
       "</style>\n",
       "<table border=\"1\" class=\"dataframe\">\n",
       "  <thead>\n",
       "    <tr style=\"text-align: right;\">\n",
       "      <th></th>\n",
       "      <th>Name</th>\n",
       "      <th>Market Cap</th>\n",
       "      <th>Price</th>\n",
       "      <th>percentages</th>\n",
       "    </tr>\n",
       "  </thead>\n",
       "  <tbody>\n",
       "    <tr>\n",
       "      <th>1</th>\n",
       "      <td>Apple</td>\n",
       "      <td>$2.975 T</td>\n",
       "      <td>$191.31</td>\n",
       "      <td>+0.35%</td>\n",
       "    </tr>\n",
       "    <tr>\n",
       "      <th>2</th>\n",
       "      <td>Microsoft</td>\n",
       "      <td>$2.808 T</td>\n",
       "      <td>$377.85</td>\n",
       "      <td>+1.28%</td>\n",
       "    </tr>\n",
       "    <tr>\n",
       "      <th>3</th>\n",
       "      <td>Saudi Aramco</td>\n",
       "      <td>$2.155 T</td>\n",
       "      <td>$8.91</td>\n",
       "      <td>-0.15%</td>\n",
       "    </tr>\n",
       "    <tr>\n",
       "      <th>4</th>\n",
       "      <td>Alphabet (Google)</td>\n",
       "      <td>$1.742 T</td>\n",
       "      <td>$140.02</td>\n",
       "      <td>+1.01%</td>\n",
       "    </tr>\n",
       "    <tr>\n",
       "      <th>5</th>\n",
       "      <td>Amazon</td>\n",
       "      <td>$1.516 T</td>\n",
       "      <td>$146.71</td>\n",
       "      <td>+1.95%</td>\n",
       "    </tr>\n",
       "    <tr>\n",
       "      <th>...</th>\n",
       "      <td>...</td>\n",
       "      <td>...</td>\n",
       "      <td>...</td>\n",
       "      <td>...</td>\n",
       "    </tr>\n",
       "    <tr>\n",
       "      <th>96</th>\n",
       "      <td>Honeywell</td>\n",
       "      <td>$126.78 B</td>\n",
       "      <td>$192.31</td>\n",
       "      <td>+0.56%</td>\n",
       "    </tr>\n",
       "    <tr>\n",
       "      <th>97</th>\n",
       "      <td>Inditex</td>\n",
       "      <td>$125.28 B</td>\n",
       "      <td>$20.07</td>\n",
       "      <td>-0.59%</td>\n",
       "    </tr>\n",
       "    <tr>\n",
       "      <th>98</th>\n",
       "      <td>Caterpillar</td>\n",
       "      <td>$125.23 B</td>\n",
       "      <td>$246.01</td>\n",
       "      <td>-1.36%</td>\n",
       "    </tr>\n",
       "    <tr>\n",
       "      <th>99</th>\n",
       "      <td>Applied Materials</td>\n",
       "      <td>$125.04 B</td>\n",
       "      <td>$149.48</td>\n",
       "      <td>+0.37%</td>\n",
       "    </tr>\n",
       "    <tr>\n",
       "      <th>100</th>\n",
       "      <td>Anheuser-Busch Inbev</td>\n",
       "      <td>$124.57 B</td>\n",
       "      <td>$62.70</td>\n",
       "      <td>+1.08%</td>\n",
       "    </tr>\n",
       "  </tbody>\n",
       "</table>\n",
       "<p>100 rows × 4 columns</p>\n",
       "</div>"
      ],
      "text/plain": [
       "                     Name Market Cap    Price percentages\n",
       "1                   Apple   $2.975 T  $191.31      +0.35%\n",
       "2               Microsoft   $2.808 T  $377.85      +1.28%\n",
       "3            Saudi Aramco   $2.155 T    $8.91      -0.15%\n",
       "4       Alphabet (Google)   $1.742 T  $140.02      +1.01%\n",
       "5                  Amazon   $1.516 T  $146.71      +1.95%\n",
       "..                    ...        ...      ...         ...\n",
       "96              Honeywell  $126.78 B  $192.31      +0.56%\n",
       "97                Inditex  $125.28 B   $20.07      -0.59%\n",
       "98            Caterpillar  $125.23 B  $246.01      -1.36%\n",
       "99      Applied Materials  $125.04 B  $149.48      +0.37%\n",
       "100  Anheuser-Busch Inbev  $124.57 B   $62.70      +1.08%\n",
       "\n",
       "[100 rows x 4 columns]"
      ]
     },
     "execution_count": 20,
     "metadata": {},
     "output_type": "execute_result"
    }
   ],
   "source": [
    "df"
   ]
  },
  {
   "cell_type": "code",
   "execution_count": 21,
   "id": "e1541f78",
   "metadata": {},
   "outputs": [],
   "source": [
    "df.to_json('output_file.json', orient='records', lines=True)"
   ]
  },
  {
   "cell_type": "code",
   "execution_count": null,
   "id": "9023be32",
   "metadata": {},
   "outputs": [],
   "source": []
  }
 ],
 "metadata": {
  "kernelspec": {
   "display_name": "Python 3 (ipykernel)",
   "language": "python",
   "name": "python3"
  },
  "language_info": {
   "codemirror_mode": {
    "name": "ipython",
    "version": 3
   },
   "file_extension": ".py",
   "mimetype": "text/x-python",
   "name": "python",
   "nbconvert_exporter": "python",
   "pygments_lexer": "ipython3",
   "version": "3.11.4"
  }
 },
 "nbformat": 4,
 "nbformat_minor": 5
}
